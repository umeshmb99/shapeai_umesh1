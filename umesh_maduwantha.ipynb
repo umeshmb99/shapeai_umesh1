{
  "nbformat": 4,
  "nbformat_minor": 0,
  "metadata": {
    "colab": {
      "name": "umesh_maduwantha.ipynb",
      "provenance": [],
      "collapsed_sections": []
    },
    "kernelspec": {
      "name": "python3",
      "display_name": "Python 3"
    },
    "language_info": {
      "name": "python"
    }
  },
  "cells": [
    {
      "cell_type": "code",
      "metadata": {
        "id": "tqxNT-jTz_L5"
      },
      "source": [
        "from keras.datasets import mnist\n",
        "data = mnist.load_data()"
      ],
      "execution_count": 50,
      "outputs": []
    },
    {
      "cell_type": "code",
      "metadata": {
        "id": "cz4LKtdY1Lqi"
      },
      "source": [
        "((X_train,Y_train),(X_test,Y_test)) = data"
      ],
      "execution_count": 51,
      "outputs": []
    },
    {
      "cell_type": "code",
      "metadata": {
        "colab": {
          "base_uri": "https://localhost:8080/"
        },
        "id": "8JOKjJcd5CR7",
        "outputId": "31488aa0-6de8-43c8-8d8b-e05e7c41a16f"
      },
      "source": [
        "X_train[0].shape"
      ],
      "execution_count": 52,
      "outputs": [
        {
          "output_type": "execute_result",
          "data": {
            "text/plain": [
              "(28, 28)"
            ]
          },
          "metadata": {
            "tags": []
          },
          "execution_count": 52
        }
      ]
    },
    {
      "cell_type": "code",
      "metadata": {
        "colab": {
          "base_uri": "https://localhost:8080/"
        },
        "id": "LuvN8Arr7MOT",
        "outputId": "fa33e230-868a-4266-fb4b-df9069b3534b"
      },
      "source": [
        "X_train.shape"
      ],
      "execution_count": 53,
      "outputs": [
        {
          "output_type": "execute_result",
          "data": {
            "text/plain": [
              "(60000, 28, 28)"
            ]
          },
          "metadata": {
            "tags": []
          },
          "execution_count": 53
        }
      ]
    },
    {
      "cell_type": "code",
      "metadata": {
        "id": "q9TO2Y5a6aHT"
      },
      "source": [
        "\n",
        "X_train = X_train.reshape((X_train.shape[0],28*28)).astype('float32')\n",
        "X_test = X_test.reshape((X_test.shape[0],28*28)).astype('float32')"
      ],
      "execution_count": 54,
      "outputs": []
    },
    {
      "cell_type": "code",
      "metadata": {
        "id": "tRAxvPA98VeX"
      },
      "source": [
        "#normalizing values (0-255 to 0-1)\n",
        "X_train = X_train / 255\n",
        "X_test = X_test / 255"
      ],
      "execution_count": 55,
      "outputs": []
    },
    {
      "cell_type": "code",
      "metadata": {
        "id": "qqzgewFI-a6g"
      },
      "source": [
        "from keras.utils import np_utils\n",
        "Y_train = np_utils.to_categorical(Y_train)\n",
        "Y_test = np_utils.to_categorical(Y_test)\n",
        "num_classes = Y_test.shape[1]"
      ],
      "execution_count": 56,
      "outputs": []
    },
    {
      "cell_type": "code",
      "metadata": {
        "id": "TvOS1Hnf_Pjg"
      },
      "source": [
        "from keras.models import Sequential\n",
        "from keras.layers import Dense"
      ],
      "execution_count": 57,
      "outputs": []
    },
    {
      "cell_type": "code",
      "metadata": {
        "id": "AErYwOIk_g0u"
      },
      "source": [
        "#define model\n",
        "model = Sequential()\n",
        "\n",
        "#add first hidden layer\n",
        "model.add(Dense(32, input_dim=28*28, activation = 'relu'))\n",
        "\n",
        "#add second hidden layer\n",
        "model.add(Dense(64, activation = 'relu'))\n",
        "\n",
        "#add output layer having to 10 neurons(since there are 10 classes/categories)\n",
        "model.add(Dense(10, activation = 'softmax'))"
      ],
      "execution_count": 58,
      "outputs": []
    },
    {
      "cell_type": "code",
      "metadata": {
        "id": "1CDGxpuIAPuj"
      },
      "source": [
        "#compile model\n",
        "model.compile(loss='categorical_crossentropy', optimizer='adam', metrics =['accuracy'])"
      ],
      "execution_count": 59,
      "outputs": []
    },
    {
      "cell_type": "code",
      "metadata": {
        "colab": {
          "base_uri": "https://localhost:8080/"
        },
        "id": "j1UlrvsYAXsT",
        "outputId": "ac31e685-8a8a-495f-96d8-44183d6cf38f"
      },
      "source": [
        "#print model summary\n",
        "model.summary()"
      ],
      "execution_count": 60,
      "outputs": [
        {
          "output_type": "stream",
          "text": [
            "Model: \"sequential_2\"\n",
            "_________________________________________________________________\n",
            "Layer (type)                 Output Shape              Param #   \n",
            "=================================================================\n",
            "dense_6 (Dense)              (None, 32)                25120     \n",
            "_________________________________________________________________\n",
            "dense_7 (Dense)              (None, 64)                2112      \n",
            "_________________________________________________________________\n",
            "dense_8 (Dense)              (None, 10)                650       \n",
            "=================================================================\n",
            "Total params: 27,882\n",
            "Trainable params: 27,882\n",
            "Non-trainable params: 0\n",
            "_________________________________________________________________\n"
          ],
          "name": "stdout"
        }
      ]
    },
    {
      "cell_type": "code",
      "metadata": {
        "colab": {
          "base_uri": "https://localhost:8080/"
        },
        "id": "NpqR_ZRbAi1E",
        "outputId": "eaad8988-e88c-48cf-96d4-61e666c4843a"
      },
      "source": [
        "#train model\n",
        "model.fit(X_train, Y_train, epochs= 10, batch_size= 100) "
      ],
      "execution_count": 61,
      "outputs": [
        {
          "output_type": "stream",
          "text": [
            "Epoch 1/10\n",
            "600/600 [==============================] - 2s 2ms/step - loss: 0.7806 - accuracy: 0.7810\n",
            "Epoch 2/10\n",
            "600/600 [==============================] - 1s 2ms/step - loss: 0.2013 - accuracy: 0.9413\n",
            "Epoch 3/10\n",
            "600/600 [==============================] - 1s 2ms/step - loss: 0.1484 - accuracy: 0.9569\n",
            "Epoch 4/10\n",
            "600/600 [==============================] - 1s 2ms/step - loss: 0.1259 - accuracy: 0.9630\n",
            "Epoch 5/10\n",
            "600/600 [==============================] - 1s 2ms/step - loss: 0.1063 - accuracy: 0.9689\n",
            "Epoch 6/10\n",
            "600/600 [==============================] - 1s 2ms/step - loss: 0.0926 - accuracy: 0.9733\n",
            "Epoch 7/10\n",
            "600/600 [==============================] - 1s 2ms/step - loss: 0.0805 - accuracy: 0.9761\n",
            "Epoch 8/10\n",
            "600/600 [==============================] - 1s 2ms/step - loss: 0.0755 - accuracy: 0.9768\n",
            "Epoch 9/10\n",
            "600/600 [==============================] - 1s 2ms/step - loss: 0.0664 - accuracy: 0.9804\n",
            "Epoch 10/10\n",
            "600/600 [==============================] - 1s 2ms/step - loss: 0.0648 - accuracy: 0.9803\n"
          ],
          "name": "stdout"
        },
        {
          "output_type": "execute_result",
          "data": {
            "text/plain": [
              "<tensorflow.python.keras.callbacks.History at 0x7f8ef3d85750>"
            ]
          },
          "metadata": {
            "tags": []
          },
          "execution_count": 61
        }
      ]
    },
    {
      "cell_type": "code",
      "metadata": {
        "colab": {
          "base_uri": "https://localhost:8080/"
        },
        "id": "Tz8GEgqiBKJc",
        "outputId": "a8f747ba-50c5-4d22-b1d0-1b60e01c2634"
      },
      "source": [
        "\n",
        "scores = model.evaluate(X_test,Y_test)\n",
        "print(scores) #returns loss and accuracy"
      ],
      "execution_count": 62,
      "outputs": [
        {
          "output_type": "stream",
          "text": [
            "313/313 [==============================] - 0s 931us/step - loss: 0.1035 - accuracy: 0.9708\n",
            "[0.10349826514720917, 0.97079998254776]\n"
          ],
          "name": "stdout"
        }
      ]
    }
  ]
}